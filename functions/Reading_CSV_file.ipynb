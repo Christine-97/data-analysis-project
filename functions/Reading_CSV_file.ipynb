{
  "metadata": {
    "kernelspec": {
      "display_name": "Python (Pyodide)",
      "language": "python",
      "name": "python"
    },
    "language_info": {
      "codemirror_mode": {
        "name": "python",
        "version": 3
      },
      "file_extension": ".py",
      "mimetype": "text/x-python",
      "name": "python",
      "nbconvert_exporter": "python",
      "pygments_lexer": "ipython3",
      "version": "3.8"
    }
  },
  "nbformat_minor": 5,
  "nbformat": 4,
  "cells": [
    {
      "id": "a35eeb9f-df70-4ab1-a243-2d2025888eb0",
      "cell_type": "markdown",
      "source": "# Function to read csv files and convert it into list of dictionaries.",
      "metadata": {}
    },
    {
      "id": "69579d55-a352-47f6-b507-a98664c31315",
      "cell_type": "code",
      "source": "## reading csv",
      "metadata": {
        "trusted": true
      },
      "outputs": [],
      "execution_count": null
    },
    {
      "id": "0722ab55-60e7-4826-af2c-ba0e6adf0f35",
      "cell_type": "code",
      "source": "import os, urllib\nos.getcwd()",
      "metadata": {
        "trusted": true
      },
      "outputs": [
        {
          "execution_count": 22,
          "output_type": "execute_result",
          "data": {
            "text/plain": "'/drive/notebooks'"
          },
          "metadata": {}
        }
      ],
      "execution_count": 22
    },
    {
      "id": "62154264-3a6f-482c-a257-55fe8a5e2bf2",
      "cell_type": "code",
      "source": "os.listdir('.')",
      "metadata": {
        "trusted": true
      },
      "outputs": [
        {
          "execution_count": 23,
          "output_type": "execute_result",
          "data": {
            "text/plain": "['Intro (copy).ipynb',\n 'practice.ipynb',\n 'sample_data.csv',\n 'Lorenz.ipynb',\n 'cpp-third-party-libs.ipynb',\n 'cpp-smallpt.ipynb',\n 'cpp.ipynb',\n 'Intro.ipynb',\n 'r.ipynb',\n 'sqlite.ipynb']"
          },
          "metadata": {}
        }
      ],
      "execution_count": 23
    },
    {
      "id": "fe55883a-6887-43dd-9498-5333a51799e2",
      "cell_type": "code",
      "source": "def parse_header(header_line):\n    return header_line.strip().split(\",\")\n\ndef parse_values(lines):\n    return lines.strip().split(\",\")\n\ndef create_item_dict(values,headers):\n    row = dict(zip(headers, values))\n    return row\n\ndef read_csv(path):\n    result = []\n    #Open_the_file_in_read_mode\n    with open(path,'r') as f:\n        #Get_list_of_lines\n        lines = f.readlines()\n        #Parse_the_header\n        headers = parse_header(lines[0])\n    #Loop_over_the_remaining_lines\n    for data_line in lines[1:]:\n        #Parse_the_values\n        values = parse_values(data_line)\n        #Create_a_dictionary_using_values_&_headers\n        item_dict = create_item_dict(values,headers)\n        #Add_the_dictionary_to_the_result\n        result.append(item_dict)\n    return result",
      "metadata": {
        "trusted": true
      },
      "outputs": [],
      "execution_count": 46
    },
    {
      "id": "3e458788-20cf-463f-9cf2-86af5afc94b4",
      "cell_type": "code",
      "source": "file_path = '/drive/notebooks/sample_data.csv'",
      "metadata": {
        "trusted": true
      },
      "outputs": [],
      "execution_count": 47
    },
    {
      "id": "7afaeccd-181f-4123-be95-832623d03d5d",
      "cell_type": "code",
      "source": "check = read_csv(file_path) \nprint(check)",
      "metadata": {
        "trusted": true
      },
      "outputs": [
        {
          "name": "stdout",
          "output_type": "stream",
          "text": "[{'car_name': 'Chevrolet', 'model': 'Corvette', 'year': '1976', 'color': 'red', 'engine_type': 'electric', 'transmission': 'automatic', 'fuel_type': 'hybrid', 'price': '67332.67', 'mileage': '277318', 'product_name': 'Tomato Sauce'}, {'car_name': 'Subaru', 'model': 'Outback', 'year': '1969', 'color': 'green', 'engine_type': 'gasoline', 'transmission': 'automatic', 'fuel_type': 'diesel', 'price': '88685.39', 'mileage': '276955', 'product_name': 'Rechargeable Battery Organizer'}, {'car_name': 'Mercedes-Benz', 'model': 'E-Class', 'year': '1982', 'color': 'black', 'engine_type': 'diesel', 'transmission': 'manual', 'fuel_type': 'diesel', 'price': '91872.02', 'mileage': '195452', 'product_name': 'Flavored Rice Cakes'}, {'car_name': 'Honda', 'model': 'CR-V', 'year': '1918', 'color': 'black', 'engine_type': 'diesel', 'transmission': 'manual', 'fuel_type': 'petrol', 'price': '14176.49', 'mileage': '135930', 'product_name': \"Kids' Art Supplies Kit\"}, {'car_name': 'Mercedes-Benz', 'model': '600SEL', 'year': '1960', 'color': 'black', 'engine_type': 'gasoline', 'transmission': 'automatic', 'fuel_type': 'diesel', 'price': '96401.29', 'mileage': '17011', 'product_name': 'Wall-Mounted Bookshelf'}, {'car_name': 'Chevrolet', 'model': 'Aveo', 'year': '1923', 'color': 'red', 'engine_type': 'diesel', 'transmission': 'automatic', 'fuel_type': 'hybrid', 'price': '21022.95', 'mileage': '134583', 'product_name': 'Air Fryer'}, {'car_name': 'Ford', 'model': 'Festiva', 'year': '1959', 'color': 'white', 'engine_type': 'gasoline', 'transmission': 'manual', 'fuel_type': 'petrol', 'price': '38881.05', 'mileage': '109756', 'product_name': 'Roasted Red Pepper Sauce'}, {'car_name': 'Buick', 'model': 'Electra', 'year': '2020', 'color': 'blue', 'engine_type': 'electric', 'transmission': 'manual', 'fuel_type': 'hybrid', 'price': '97474.42', 'mileage': '276626', 'product_name': 'Set of Silicone Cooking Utensils'}, {'car_name': 'Volkswagen', 'model': 'Jetta', 'year': '2003', 'color': 'red', 'engine_type': 'gasoline', 'transmission': 'automatic', 'fuel_type': 'petrol', 'price': '97982.0', 'mileage': '85267', 'product_name': 'Fleece Lined Leggings'}, {'car_name': 'Plymouth', 'model': 'Prowler', 'year': '1929', 'color': 'green', 'engine_type': 'electric', 'transmission': 'manual', 'fuel_type': 'hybrid', 'price': '58636.25', 'mileage': '49451', 'product_name': 'Organic Chia Seeds'}, {'car_name': 'Honda', 'model': 'del Sol', 'year': '1977', 'color': 'white', 'engine_type': 'gasoline', 'transmission': 'manual', 'fuel_type': 'hybrid', 'price': '95704.57', 'mileage': '231883', 'product_name': 'Coconut Curry Chicken'}, {'car_name': 'Cadillac', 'model': 'CTS', 'year': '1916', 'color': 'green', 'engine_type': 'electric', 'transmission': 'manual', 'fuel_type': 'hybrid', 'price': '31224.66', 'mileage': '148360', 'product_name': 'Black Olives'}, {'car_name': 'Ford', 'model': 'Taurus X', 'year': '1920', 'color': 'red', 'engine_type': 'gasoline', 'transmission': 'automatic', 'fuel_type': 'petrol', 'price': '90277.03', 'mileage': '199268', 'product_name': 'Trackpad for Laptop'}, {'car_name': 'Nissan', 'model': 'Sentra', 'year': '1950', 'color': 'red', 'engine_type': 'electric', 'transmission': 'automatic', 'fuel_type': 'petrol', 'price': '37378.98', 'mileage': '55523', 'product_name': 'Weighted Blanket for Adults'}, {'car_name': 'Lamborghini', 'model': 'Countach', 'year': '2001', 'color': 'black', 'engine_type': 'diesel', 'transmission': 'manual', 'fuel_type': 'hybrid', 'price': '99185.29', 'mileage': '294795', 'product_name': 'Fruit and Nut Energy Bites'}, {'car_name': 'Chevrolet', 'model': 'Monte Carlo', 'year': '1983', 'color': 'black', 'engine_type': 'electric', 'transmission': 'automatic', 'fuel_type': 'hybrid', 'price': '23002.26', 'mileage': '217545', 'product_name': 'Weighted Jump Rope with Counter'}, {'car_name': 'Ford', 'model': 'Contour', 'year': '1937', 'color': 'red', 'engine_type': 'gasoline', 'transmission': 'automatic', 'fuel_type': 'petrol', 'price': '58759.42', 'mileage': '196131', 'product_name': 'Grilled Veggie Burgers'}, {'car_name': 'Mercury', 'model': 'Mariner', 'year': '1969', 'color': 'blue', 'engine_type': 'diesel', 'transmission': 'automatic', 'fuel_type': 'hybrid', 'price': '25525.35', 'mileage': '195400', 'product_name': 'Sriracha Hot Chili Sauce'}, {'car_name': 'Lincoln', 'model': 'Continental', 'year': '1905', 'color': 'white', 'engine_type': 'gasoline', 'transmission': 'automatic', 'fuel_type': 'diesel', 'price': '81880.19', 'mileage': '256162', 'product_name': 'Fruit and Nut Energy Bites'}, {'car_name': 'Kia', 'model': 'Sorento', 'year': '1998', 'color': 'red', 'engine_type': 'gasoline', 'transmission': 'manual', 'fuel_type': 'hybrid', 'price': '67681.61', 'mileage': '124124', 'product_name': 'Kettle BBQ Grill'}, {'car_name': 'GMC', 'model': 'Sierra 3500', 'year': '2016', 'color': 'green', 'engine_type': 'gasoline', 'transmission': 'automatic', 'fuel_type': 'petrol', 'price': '15882.71', 'mileage': '213550', 'product_name': 'Portable Charcoal Grill'}, {'car_name': 'GMC', 'model': 'Envoy', 'year': '1944', 'color': 'green', 'engine_type': 'diesel', 'transmission': 'manual', 'fuel_type': 'petrol', 'price': '43754.67', 'mileage': '151985', 'product_name': 'Reusable Snack Bags'}, {'car_name': 'Infiniti', 'model': 'M', 'year': '1950', 'color': 'blue', 'engine_type': 'electric', 'transmission': 'automatic', 'fuel_type': 'petrol', 'price': '83749.3', 'mileage': '193328', 'product_name': 'Dog Training Whistle'}, {'car_name': 'Honda', 'model': 'Accord', 'year': '2003', 'color': 'black', 'engine_type': 'electric', 'transmission': 'manual', 'fuel_type': 'diesel', 'price': '18910.24', 'mileage': '286045', 'product_name': 'Artisan Flatbreads'}, {'car_name': 'Suzuki', 'model': 'Reno', 'year': '1914', 'color': 'black', 'engine_type': 'diesel', 'transmission': 'automatic', 'fuel_type': 'diesel', 'price': '69609.92', 'mileage': '236977', 'product_name': 'French Onion Dip'}, {'car_name': 'Hummer', 'model': 'H1', 'year': '1993', 'color': 'green', 'engine_type': 'electric', 'transmission': 'automatic', 'fuel_type': 'petrol', 'price': '60390.52', 'mileage': '23700', 'product_name': 'Pistachios'}, {'car_name': 'BMW', 'model': '7 Series', 'year': '2018', 'color': 'green', 'engine_type': 'diesel', 'transmission': 'automatic', 'fuel_type': 'hybrid', 'price': '33997.77', 'mileage': '212196', 'product_name': 'Teriyaki Tofu Stir-Fry'}, {'car_name': 'Acura', 'model': 'Integra', 'year': '1908', 'color': 'blue', 'engine_type': 'electric', 'transmission': 'manual', 'fuel_type': 'hybrid', 'price': '12370.73', 'mileage': '70571', 'product_name': 'Roasted Red Pepper Hummus'}, {'car_name': 'Cadillac', 'model': 'CTS', 'year': '1904', 'color': 'black', 'engine_type': 'electric', 'transmission': 'automatic', 'fuel_type': 'diesel', 'price': '16849.53', 'mileage': '45737', 'product_name': 'Wireless Printer'}, {'car_name': 'Chevrolet', 'model': 'Caprice Classic', 'year': '2004', 'color': 'green', 'engine_type': 'diesel', 'transmission': 'automatic', 'fuel_type': 'petrol', 'price': '19304.56', 'mileage': '280650', 'product_name': 'Frozen Berry Blend'}, {'car_name': 'Nissan', 'model': 'Altima', 'year': '1985', 'color': 'black', 'engine_type': 'gasoline', 'transmission': 'manual', 'fuel_type': 'hybrid', 'price': '61989.8', 'mileage': '227542', 'product_name': 'Kale & Quinoa Salad Mix'}, {'car_name': 'Volvo', 'model': 'S90', 'year': '1979', 'color': 'green', 'engine_type': 'electric', 'transmission': 'manual', 'fuel_type': 'petrol', 'price': '75084.88', 'mileage': '209529', 'product_name': 'Travel Hair Straightener'}, {'car_name': 'Honda', 'model': 'Pilot', 'year': '1974', 'color': 'green', 'engine_type': 'diesel', 'transmission': 'automatic', 'fuel_type': 'petrol', 'price': '95173.45', 'mileage': '141819', 'product_name': 'Baked Falafel'}, {'car_name': 'Dodge', 'model': 'D250', 'year': '1907', 'color': 'green', 'engine_type': 'gasoline', 'transmission': 'manual', 'fuel_type': 'petrol', 'price': '17962.33', 'mileage': '82195', 'product_name': 'Sporty Cap'}, {'car_name': 'Toyota', 'model': 'Prius', 'year': '1995', 'color': 'green', 'engine_type': 'diesel', 'transmission': 'automatic', 'fuel_type': 'hybrid', 'price': '80948.04', 'mileage': '274193', 'product_name': 'Under Desk Footrest'}, {'car_name': 'Mitsubishi', 'model': 'GTO', 'year': '1958', 'color': 'white', 'engine_type': 'diesel', 'transmission': 'manual', 'fuel_type': 'diesel', 'price': '33338.67', 'mileage': '167260', 'product_name': 'Pet Water Fountain with Filtration'}, {'car_name': 'Chrysler', 'model': 'Town & Country', 'year': '2006', 'color': 'green', 'engine_type': 'diesel', 'transmission': 'automatic', 'fuel_type': 'hybrid', 'price': '66963.1', 'mileage': '249501', 'product_name': 'Vegan Taco Seasoning'}, {'car_name': 'BMW', 'model': 'X6 M', 'year': '1937', 'color': 'red', 'engine_type': 'diesel', 'transmission': 'manual', 'fuel_type': 'petrol', 'price': '41954.9', 'mileage': '99230', 'product_name': 'Classic Slim Fit Shirt'}, {'car_name': 'Lincoln', 'model': 'Aviator', 'year': '1979', 'color': 'black', 'engine_type': 'gasoline', 'transmission': 'manual', 'fuel_type': 'hybrid', 'price': '61941.96', 'mileage': '232463', 'product_name': 'Avocados'}, {'car_name': 'Kia', 'model': 'Optima', 'year': '1995', 'color': 'white', 'engine_type': 'electric', 'transmission': 'manual', 'fuel_type': 'diesel', 'price': '21222.86', 'mileage': '92122', 'product_name': 'Self-Cleaning Water Bottle'}, {'car_name': 'Honda', 'model': 'Odyssey', 'year': '1962', 'color': 'blue', 'engine_type': 'gasoline', 'transmission': 'automatic', 'fuel_type': 'hybrid', 'price': '94562.55', 'mileage': '265620', 'product_name': 'Apple Cinnamon Breakfast Muffins'}, {'car_name': 'Dodge', 'model': 'Caravan', 'year': '1926', 'color': 'white', 'engine_type': 'electric', 'transmission': 'automatic', 'fuel_type': 'hybrid', 'price': '96135.56', 'mileage': '245446', 'product_name': 'Bamboo Utensil Set'}, {'car_name': 'Mercury', 'model': 'Tracer', 'year': '1910', 'color': 'blue', 'engine_type': 'electric', 'transmission': 'manual', 'fuel_type': 'diesel', 'price': '65176.71', 'mileage': '156824', 'product_name': 'Personalized Pet ID Tags'}, {'car_name': 'Mitsubishi', 'model': 'Truck', 'year': '1915', 'color': 'red', 'engine_type': 'gasoline', 'transmission': 'automatic', 'fuel_type': 'petrol', 'price': '58342.74', 'mileage': '116910', 'product_name': 'Peanut Butter Banana Smoothie'}, {'car_name': 'Isuzu', 'model': 'Rodeo', 'year': '1997', 'color': 'blue', 'engine_type': 'gasoline', 'transmission': 'automatic', 'fuel_type': 'diesel', 'price': '89886.26', 'mileage': '122836', 'product_name': 'Herb Garlic Butter'}, {'car_name': 'Infiniti', 'model': 'G', 'year': '1958', 'color': 'white', 'engine_type': 'gasoline', 'transmission': 'automatic', 'fuel_type': 'diesel', 'price': '60584.66', 'mileage': '294108', 'product_name': 'Tortilla Chips'}, {'car_name': 'BMW', 'model': '6 Series', 'year': '2006', 'color': 'white', 'engine_type': 'gasoline', 'transmission': 'automatic', 'fuel_type': 'hybrid', 'price': '80221.73', 'mileage': '275938', 'product_name': 'Creative Puzzle Game'}, {'car_name': 'Oldsmobile', 'model': 'Bravada', 'year': '2020', 'color': 'green', 'engine_type': 'electric', 'transmission': 'automatic', 'fuel_type': 'diesel', 'price': '23391.45', 'mileage': '86454', 'product_name': 'Spicy Vegetable Sushi Rolls'}, {'car_name': 'BMW', 'model': '6 Series', 'year': '1940', 'color': 'blue', 'engine_type': 'gasoline', 'transmission': 'manual', 'fuel_type': 'petrol', 'price': '27497.67', 'mileage': '267069', 'product_name': 'Adjustable Dog Harness'}, {'car_name': 'Toyota', 'model': 'Solara', 'year': '1985', 'color': 'red', 'engine_type': 'electric', 'transmission': 'manual', 'fuel_type': 'diesel', 'price': '56973.03', 'mileage': '22436', 'product_name': 'Sports Water Bottle with Infuser'}]\n"
        }
      ],
      "execution_count": 48
    }
  ]
}
